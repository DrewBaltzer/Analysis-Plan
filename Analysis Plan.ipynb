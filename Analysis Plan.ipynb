{
 "cells": [
  {
   "cell_type": "markdown",
   "id": "142f54a3",
   "metadata": {},
   "source": [
    "### Analysis Plan\n",
    "Drew Baltzer \n",
    "12/6/21"
   ]
  },
  {
   "cell_type": "code",
   "execution_count": 3,
   "id": "addce0f9",
   "metadata": {},
   "outputs": [],
   "source": [
    "import pandas as pd \n",
    "import openpyxl\n",
    "from matplotlib import pyplot as plt\n",
    "from scipy import stats\n",
    "from pandas import DataFrame"
   ]
  },
  {
   "cell_type": "code",
   "execution_count": null,
   "id": "0b82f5f1",
   "metadata": {
    "scrolled": true
   },
   "outputs": [],
   "source": [
    "ls"
   ]
  },
  {
   "cell_type": "markdown",
   "id": "ebb10ed1",
   "metadata": {},
   "source": [
    "### The Data\n",
    "I found excel spreadsheets online that display Steam data from August 2020 that covers hundrends of game's developers, prices, users, languages, genres and release dates. I am going to use these spreadsheets to form an analysis that will, on average, predict that more popular games on Steam are typically free to play titles rather than games that charge retail price (30-60 usd). The .xlsx format is being used here due to issues with the .csv format and was downloaded from Mendeley Data that can be found here: https://data.mendeley.com/datasets/ycy3sy3vj2/1."
   ]
  },
  {
   "cell_type": "code",
   "execution_count": 77,
   "id": "e6e7fb69",
   "metadata": {
    "scrolled": false
   },
   "outputs": [],
   "source": [
    "game_devs = pd.read_excel('applicationDevelopers.xlsx', header = None)\n",
    "game_info = pd.read_excel('applicationInformation.xlsx')\n",
    "gta5 = pd.read_excel('271590.xlsx')\n",
    "gta5user = pd.read_excel('271590u.xlsx')\n",
    "#game_pub = pd.read_csv(r\"C:\\Users\\Drew\\EMATFA21\\applicationPublishers.csv\", encoding = 'latin-1', header = None)"
   ]
  },
  {
   "cell_type": "markdown",
   "id": "c59198c6",
   "metadata": {},
   "source": [
    "### Other Data\n",
    "Other files being used such as Player Count History document the number of players between 2017-2020 with certain time intervals. These files can get quite large so only the ones for a specific game are being used."
   ]
  },
  {
   "cell_type": "code",
   "execution_count": 78,
   "id": "81a75953",
   "metadata": {
    "scrolled": false
   },
   "outputs": [
    {
     "data": {
      "text/html": [
       "<div>\n",
       "<style scoped>\n",
       "    .dataframe tbody tr th:only-of-type {\n",
       "        vertical-align: middle;\n",
       "    }\n",
       "\n",
       "    .dataframe tbody tr th {\n",
       "        vertical-align: top;\n",
       "    }\n",
       "\n",
       "    .dataframe thead th {\n",
       "        text-align: right;\n",
       "    }\n",
       "</style>\n",
       "<table border=\"1\" class=\"dataframe\">\n",
       "  <thead>\n",
       "    <tr style=\"text-align: right;\">\n",
       "      <th></th>\n",
       "      <th>0</th>\n",
       "      <th>1</th>\n",
       "      <th>2</th>\n",
       "      <th>3</th>\n",
       "      <th>4</th>\n",
       "      <th>5</th>\n",
       "      <th>6</th>\n",
       "      <th>7</th>\n",
       "    </tr>\n",
       "  </thead>\n",
       "  <tbody>\n",
       "    <tr>\n",
       "      <th>0</th>\n",
       "      <td>578080</td>\n",
       "      <td>PUBG Corporation</td>\n",
       "      <td>NaN</td>\n",
       "      <td>NaN</td>\n",
       "      <td>NaN</td>\n",
       "      <td>NaN</td>\n",
       "      <td>NaN</td>\n",
       "      <td>NaN</td>\n",
       "    </tr>\n",
       "    <tr>\n",
       "      <th>1</th>\n",
       "      <td>570</td>\n",
       "      <td>Valve</td>\n",
       "      <td>NaN</td>\n",
       "      <td>NaN</td>\n",
       "      <td>NaN</td>\n",
       "      <td>NaN</td>\n",
       "      <td>NaN</td>\n",
       "      <td>NaN</td>\n",
       "    </tr>\n",
       "    <tr>\n",
       "      <th>2</th>\n",
       "      <td>730</td>\n",
       "      <td>Valve</td>\n",
       "      <td>Hidden Path Entertainment</td>\n",
       "      <td>NaN</td>\n",
       "      <td>NaN</td>\n",
       "      <td>NaN</td>\n",
       "      <td>NaN</td>\n",
       "      <td>NaN</td>\n",
       "    </tr>\n",
       "    <tr>\n",
       "      <th>3</th>\n",
       "      <td>622590</td>\n",
       "      <td>NaN</td>\n",
       "      <td>NaN</td>\n",
       "      <td>NaN</td>\n",
       "      <td>NaN</td>\n",
       "      <td>NaN</td>\n",
       "      <td>NaN</td>\n",
       "      <td>NaN</td>\n",
       "    </tr>\n",
       "    <tr>\n",
       "      <th>4</th>\n",
       "      <td>359550</td>\n",
       "      <td>Ubisoft Montreal</td>\n",
       "      <td>NaN</td>\n",
       "      <td>NaN</td>\n",
       "      <td>NaN</td>\n",
       "      <td>NaN</td>\n",
       "      <td>NaN</td>\n",
       "      <td>NaN</td>\n",
       "    </tr>\n",
       "  </tbody>\n",
       "</table>\n",
       "</div>"
      ],
      "text/plain": [
       "        0                 1                          2    3    4    5    6  \\\n",
       "0  578080  PUBG Corporation                        NaN  NaN  NaN  NaN  NaN   \n",
       "1     570             Valve                        NaN  NaN  NaN  NaN  NaN   \n",
       "2     730             Valve  Hidden Path Entertainment  NaN  NaN  NaN  NaN   \n",
       "3  622590               NaN                        NaN  NaN  NaN  NaN  NaN   \n",
       "4  359550  Ubisoft Montreal                        NaN  NaN  NaN  NaN  NaN   \n",
       "\n",
       "     7  \n",
       "0  NaN  \n",
       "1  NaN  \n",
       "2  NaN  \n",
       "3  NaN  \n",
       "4  NaN  "
      ]
     },
     "execution_count": 78,
     "metadata": {},
     "output_type": "execute_result"
    }
   ],
   "source": [
    "game_devs.head()"
   ]
  },
  {
   "cell_type": "markdown",
   "id": "6159d43f",
   "metadata": {},
   "source": [
    "The games shown below are some of the most popular games on Steam. This way we can choose certain games to pull data from. I am going to start with Grand Theft Auto 5 which is a Triple-A title originally priced at $60 on it's release back in 2013. I am going to pull current data from 2018-2020 to allow a more fair comparison to a free-to-play title of similar size."
   ]
  },
  {
   "cell_type": "code",
   "execution_count": 59,
   "id": "74b8f2a9",
   "metadata": {
    "scrolled": false
   },
   "outputs": [
    {
     "data": {
      "text/html": [
       "<div>\n",
       "<style scoped>\n",
       "    .dataframe tbody tr th:only-of-type {\n",
       "        vertical-align: middle;\n",
       "    }\n",
       "\n",
       "    .dataframe tbody tr th {\n",
       "        vertical-align: top;\n",
       "    }\n",
       "\n",
       "    .dataframe thead th {\n",
       "        text-align: right;\n",
       "    }\n",
       "</style>\n",
       "<table border=\"1\" class=\"dataframe\">\n",
       "  <thead>\n",
       "    <tr style=\"text-align: right;\">\n",
       "      <th></th>\n",
       "      <th>appid</th>\n",
       "      <th>type</th>\n",
       "      <th>name</th>\n",
       "      <th>releasedate</th>\n",
       "      <th>freetoplay</th>\n",
       "    </tr>\n",
       "  </thead>\n",
       "  <tbody>\n",
       "    <tr>\n",
       "      <th>0</th>\n",
       "      <td>578080</td>\n",
       "      <td>game</td>\n",
       "      <td>PLAYERUNKNOWN'S BATTLEGROUNDS</td>\n",
       "      <td>2017-12-21</td>\n",
       "      <td>0.0</td>\n",
       "    </tr>\n",
       "    <tr>\n",
       "      <th>1</th>\n",
       "      <td>570</td>\n",
       "      <td>game</td>\n",
       "      <td>Dota 2</td>\n",
       "      <td>2013-07-09</td>\n",
       "      <td>1.0</td>\n",
       "    </tr>\n",
       "    <tr>\n",
       "      <th>2</th>\n",
       "      <td>730</td>\n",
       "      <td>game</td>\n",
       "      <td>Counter-Strike: Global Offensive</td>\n",
       "      <td>2012-08-21</td>\n",
       "      <td>1.0</td>\n",
       "    </tr>\n",
       "    <tr>\n",
       "      <th>3</th>\n",
       "      <td>622590</td>\n",
       "      <td>NaN</td>\n",
       "      <td>PLAYERUNKNOWN'S BATTLEGROUNDS (Test Server)</td>\n",
       "      <td>NaT</td>\n",
       "      <td>NaN</td>\n",
       "    </tr>\n",
       "    <tr>\n",
       "      <th>4</th>\n",
       "      <td>359550</td>\n",
       "      <td>game</td>\n",
       "      <td>Tom Clancy's Rainbow Six Siege</td>\n",
       "      <td>2015-12-01</td>\n",
       "      <td>0.0</td>\n",
       "    </tr>\n",
       "    <tr>\n",
       "      <th>5</th>\n",
       "      <td>271590</td>\n",
       "      <td>game</td>\n",
       "      <td>Grand Theft Auto V</td>\n",
       "      <td>2015-04-13</td>\n",
       "      <td>0.0</td>\n",
       "    </tr>\n",
       "    <tr>\n",
       "      <th>6</th>\n",
       "      <td>238960</td>\n",
       "      <td>game</td>\n",
       "      <td>Path of Exile</td>\n",
       "      <td>2013-10-23</td>\n",
       "      <td>1.0</td>\n",
       "    </tr>\n",
       "    <tr>\n",
       "      <th>7</th>\n",
       "      <td>230410</td>\n",
       "      <td>game</td>\n",
       "      <td>Warframe</td>\n",
       "      <td>2013-03-25</td>\n",
       "      <td>1.0</td>\n",
       "    </tr>\n",
       "    <tr>\n",
       "      <th>8</th>\n",
       "      <td>440</td>\n",
       "      <td>game</td>\n",
       "      <td>Team Fortress 2</td>\n",
       "      <td>2007-10-10</td>\n",
       "      <td>1.0</td>\n",
       "    </tr>\n",
       "    <tr>\n",
       "      <th>9</th>\n",
       "      <td>252950</td>\n",
       "      <td>game</td>\n",
       "      <td>Rocket League</td>\n",
       "      <td>2015-07-07</td>\n",
       "      <td>0.0</td>\n",
       "    </tr>\n",
       "  </tbody>\n",
       "</table>\n",
       "</div>"
      ],
      "text/plain": [
       "    appid  type                                         name releasedate  \\\n",
       "0  578080  game                PLAYERUNKNOWN'S BATTLEGROUNDS  2017-12-21   \n",
       "1     570  game                                       Dota 2  2013-07-09   \n",
       "2     730  game             Counter-Strike: Global Offensive  2012-08-21   \n",
       "3  622590   NaN  PLAYERUNKNOWN'S BATTLEGROUNDS (Test Server)         NaT   \n",
       "4  359550  game               Tom Clancy's Rainbow Six Siege  2015-12-01   \n",
       "5  271590  game                           Grand Theft Auto V  2015-04-13   \n",
       "6  238960  game                                Path of Exile  2013-10-23   \n",
       "7  230410  game                                     Warframe  2013-03-25   \n",
       "8     440  game                              Team Fortress 2  2007-10-10   \n",
       "9  252950  game                                Rocket League  2015-07-07   \n",
       "\n",
       "   freetoplay  \n",
       "0         0.0  \n",
       "1         1.0  \n",
       "2         1.0  \n",
       "3         NaN  \n",
       "4         0.0  \n",
       "5         0.0  \n",
       "6         1.0  \n",
       "7         1.0  \n",
       "8         1.0  \n",
       "9         0.0  "
      ]
     },
     "execution_count": 59,
     "metadata": {},
     "output_type": "execute_result"
    }
   ],
   "source": [
    "game_info[0:10]"
   ]
  },
  {
   "cell_type": "markdown",
   "id": "f70fce12",
   "metadata": {},
   "source": [
    "A solid game to start our data with will be Grand Theft Auto 5 which has been a popular Triple-A title since it's release and has been consistently in the top 10 Steam titles since it was ported to Steam in 2014."
   ]
  },
  {
   "cell_type": "code",
   "execution_count": 98,
   "id": "29b5a2fe",
   "metadata": {},
   "outputs": [
    {
     "data": {
      "text/html": [
       "<div>\n",
       "<style scoped>\n",
       "    .dataframe tbody tr th:only-of-type {\n",
       "        vertical-align: middle;\n",
       "    }\n",
       "\n",
       "    .dataframe tbody tr th {\n",
       "        vertical-align: top;\n",
       "    }\n",
       "\n",
       "    .dataframe thead th {\n",
       "        text-align: right;\n",
       "    }\n",
       "</style>\n",
       "<table border=\"1\" class=\"dataframe\">\n",
       "  <thead>\n",
       "    <tr style=\"text-align: right;\">\n",
       "      <th></th>\n",
       "      <th>appid</th>\n",
       "      <th>type</th>\n",
       "      <th>name</th>\n",
       "      <th>releasedate</th>\n",
       "      <th>freetoplay</th>\n",
       "    </tr>\n",
       "  </thead>\n",
       "  <tbody>\n",
       "    <tr>\n",
       "      <th>5</th>\n",
       "      <td>271590</td>\n",
       "      <td>game</td>\n",
       "      <td>Grand Theft Auto V</td>\n",
       "      <td>2015-04-13</td>\n",
       "      <td>0.0</td>\n",
       "    </tr>\n",
       "  </tbody>\n",
       "</table>\n",
       "</div>"
      ],
      "text/plain": [
       "    appid  type                name releasedate  freetoplay\n",
       "5  271590  game  Grand Theft Auto V  2015-04-13         0.0"
      ]
     },
     "execution_count": 98,
     "metadata": {},
     "output_type": "execute_result"
    }
   ],
   "source": [
    "game_info[5:6]"
   ]
  },
  {
   "cell_type": "code",
   "execution_count": 60,
   "id": "e48dc7b0",
   "metadata": {
    "scrolled": true
   },
   "outputs": [
    {
     "data": {
      "text/html": [
       "<div>\n",
       "<style scoped>\n",
       "    .dataframe tbody tr th:only-of-type {\n",
       "        vertical-align: middle;\n",
       "    }\n",
       "\n",
       "    .dataframe tbody tr th {\n",
       "        vertical-align: top;\n",
       "    }\n",
       "\n",
       "    .dataframe thead th {\n",
       "        text-align: right;\n",
       "    }\n",
       "</style>\n",
       "<table border=\"1\" class=\"dataframe\">\n",
       "  <thead>\n",
       "    <tr style=\"text-align: right;\">\n",
       "      <th></th>\n",
       "      <th>Date</th>\n",
       "      <th>Initialprice</th>\n",
       "      <th>Finalprice</th>\n",
       "      <th>Discount</th>\n",
       "    </tr>\n",
       "  </thead>\n",
       "  <tbody>\n",
       "    <tr>\n",
       "      <th>0</th>\n",
       "      <td>2019-04-07</td>\n",
       "      <td>29.99</td>\n",
       "      <td>29.99</td>\n",
       "      <td>0</td>\n",
       "    </tr>\n",
       "    <tr>\n",
       "      <th>1</th>\n",
       "      <td>2019-04-08</td>\n",
       "      <td>29.99</td>\n",
       "      <td>29.99</td>\n",
       "      <td>0</td>\n",
       "    </tr>\n",
       "    <tr>\n",
       "      <th>2</th>\n",
       "      <td>2019-04-09</td>\n",
       "      <td>29.99</td>\n",
       "      <td>29.99</td>\n",
       "      <td>0</td>\n",
       "    </tr>\n",
       "    <tr>\n",
       "      <th>3</th>\n",
       "      <td>2019-04-10</td>\n",
       "      <td>29.99</td>\n",
       "      <td>29.99</td>\n",
       "      <td>0</td>\n",
       "    </tr>\n",
       "    <tr>\n",
       "      <th>4</th>\n",
       "      <td>2019-04-11</td>\n",
       "      <td>29.99</td>\n",
       "      <td>29.99</td>\n",
       "      <td>0</td>\n",
       "    </tr>\n",
       "  </tbody>\n",
       "</table>\n",
       "</div>"
      ],
      "text/plain": [
       "        Date  Initialprice  Finalprice  Discount\n",
       "0 2019-04-07         29.99       29.99         0\n",
       "1 2019-04-08         29.99       29.99         0\n",
       "2 2019-04-09         29.99       29.99         0\n",
       "3 2019-04-10         29.99       29.99         0\n",
       "4 2019-04-11         29.99       29.99         0"
      ]
     },
     "execution_count": 60,
     "metadata": {},
     "output_type": "execute_result"
    }
   ],
   "source": [
    "gta5.head()"
   ]
  },
  {
   "cell_type": "markdown",
   "id": "3b0625ca",
   "metadata": {},
   "source": [
    "The data below tells us about the many different prices GTA5 has been valued at on Steam. These prices are usually fluctuating based on whether there is a sale or not and usually sits at $30 nowadays, but I am going to display the minimum and maximum of GTA5's price history as well as the average."
   ]
  },
  {
   "cell_type": "code",
   "execution_count": 61,
   "id": "b5d39187",
   "metadata": {},
   "outputs": [
    {
     "data": {
      "text/plain": [
       "DescribeResult(nobs=493, minmax=(14.99, 29.99), mean=25.882494929006093, variance=44.83191510414089, skewness=-1.0143701611930918, kurtosis=-0.9710531760811034)"
      ]
     },
     "execution_count": 61,
     "metadata": {},
     "output_type": "execute_result"
    }
   ],
   "source": [
    "stats.describe(gta5['Finalprice'])"
   ]
  },
  {
   "cell_type": "code",
   "execution_count": 62,
   "id": "b9b9a997",
   "metadata": {},
   "outputs": [],
   "source": [
    "gta5_prices = stats.describe(gta5['Finalprice'])"
   ]
  },
  {
   "cell_type": "code",
   "execution_count": 63,
   "id": "60a12b41",
   "metadata": {},
   "outputs": [
    {
     "data": {
      "text/plain": [
       "25.882494929006093"
      ]
     },
     "execution_count": 63,
     "metadata": {},
     "output_type": "execute_result"
    }
   ],
   "source": [
    "gta5_prices.mean"
   ]
  },
  {
   "cell_type": "code",
   "execution_count": 64,
   "id": "a859cf72",
   "metadata": {},
   "outputs": [
    {
     "data": {
      "text/plain": [
       "(14.99, 29.99)"
      ]
     },
     "execution_count": 64,
     "metadata": {},
     "output_type": "execute_result"
    }
   ],
   "source": [
    "gta5_prices.minmax"
   ]
  },
  {
   "cell_type": "code",
   "execution_count": 92,
   "id": "b98c82d9",
   "metadata": {},
   "outputs": [],
   "source": [
    "gta5_play_count = gta5user.fillna(value = 0)"
   ]
  },
  {
   "cell_type": "code",
   "execution_count": 93,
   "id": "e15b6ca0",
   "metadata": {},
   "outputs": [
    {
     "data": {
      "text/html": [
       "<div>\n",
       "<style scoped>\n",
       "    .dataframe tbody tr th:only-of-type {\n",
       "        vertical-align: middle;\n",
       "    }\n",
       "\n",
       "    .dataframe tbody tr th {\n",
       "        vertical-align: top;\n",
       "    }\n",
       "\n",
       "    .dataframe thead th {\n",
       "        text-align: right;\n",
       "    }\n",
       "</style>\n",
       "<table border=\"1\" class=\"dataframe\">\n",
       "  <thead>\n",
       "    <tr style=\"text-align: right;\">\n",
       "      <th></th>\n",
       "      <th>Time</th>\n",
       "      <th>Playercount</th>\n",
       "    </tr>\n",
       "  </thead>\n",
       "  <tbody>\n",
       "    <tr>\n",
       "      <th>0</th>\n",
       "      <td>2017-12-14 00:00:00</td>\n",
       "      <td>52332.0</td>\n",
       "    </tr>\n",
       "    <tr>\n",
       "      <th>1</th>\n",
       "      <td>2017-12-14 00:05:00</td>\n",
       "      <td>51672.0</td>\n",
       "    </tr>\n",
       "    <tr>\n",
       "      <th>2</th>\n",
       "      <td>2017-12-14 00:10:00</td>\n",
       "      <td>51385.0</td>\n",
       "    </tr>\n",
       "    <tr>\n",
       "      <th>3</th>\n",
       "      <td>2017-12-14 00:15:00</td>\n",
       "      <td>50989.0</td>\n",
       "    </tr>\n",
       "    <tr>\n",
       "      <th>4</th>\n",
       "      <td>2017-12-14 00:20:00</td>\n",
       "      <td>51087.0</td>\n",
       "    </tr>\n",
       "  </tbody>\n",
       "</table>\n",
       "</div>"
      ],
      "text/plain": [
       "                 Time  Playercount\n",
       "0 2017-12-14 00:00:00      52332.0\n",
       "1 2017-12-14 00:05:00      51672.0\n",
       "2 2017-12-14 00:10:00      51385.0\n",
       "3 2017-12-14 00:15:00      50989.0\n",
       "4 2017-12-14 00:20:00      51087.0"
      ]
     },
     "execution_count": 93,
     "metadata": {},
     "output_type": "execute_result"
    }
   ],
   "source": [
    "gta5_play_count.head()"
   ]
  },
  {
   "cell_type": "code",
   "execution_count": 95,
   "id": "952dd88c",
   "metadata": {},
   "outputs": [],
   "source": [
    "gta5_player = stats.describe(gta5_play_count['Playercount'])"
   ]
  },
  {
   "cell_type": "code",
   "execution_count": 96,
   "id": "0737d9d7",
   "metadata": {},
   "outputs": [
    {
     "data": {
      "text/plain": [
       "DescribeResult(nobs=280224, minmax=(0.0, 269460.0), mean=74215.78217426059, variance=1511556593.570535, skewness=1.1402535343409301, kurtosis=1.5149401559212778)"
      ]
     },
     "execution_count": 96,
     "metadata": {},
     "output_type": "execute_result"
    }
   ],
   "source": [
    "gta5_player"
   ]
  },
  {
   "cell_type": "code",
   "execution_count": 97,
   "id": "7d3c124b",
   "metadata": {
    "scrolled": true
   },
   "outputs": [
    {
     "data": {
      "text/plain": [
       "74215.78217426059"
      ]
     },
     "execution_count": 97,
     "metadata": {},
     "output_type": "execute_result"
    }
   ],
   "source": [
    "gta5_player.mean"
   ]
  },
  {
   "cell_type": "markdown",
   "id": "de24c53f",
   "metadata": {},
   "source": [
    "Now we will look at the stats for Team Fortress 2 which became a free-to-play title back in 2011, therefore it will have no data regarding price history. Team Fortress 2 has had pretty consistent player count since it's free-to-play release and like GTA5 it has been in the top 10 most played Steam titles for quite some time making it a good match for a comparison."
   ]
  },
  {
   "cell_type": "code",
   "execution_count": 99,
   "id": "d68012be",
   "metadata": {},
   "outputs": [],
   "source": [
    "tf2 = pd.read_excel('440.xlsx')"
   ]
  },
  {
   "cell_type": "code",
   "execution_count": 101,
   "id": "33022e1f",
   "metadata": {},
   "outputs": [],
   "source": [
    "tf2_play_count = tf2.fillna(value = 0)"
   ]
  },
  {
   "cell_type": "code",
   "execution_count": 102,
   "id": "ab0892e3",
   "metadata": {},
   "outputs": [
    {
     "data": {
      "text/html": [
       "<div>\n",
       "<style scoped>\n",
       "    .dataframe tbody tr th:only-of-type {\n",
       "        vertical-align: middle;\n",
       "    }\n",
       "\n",
       "    .dataframe tbody tr th {\n",
       "        vertical-align: top;\n",
       "    }\n",
       "\n",
       "    .dataframe thead th {\n",
       "        text-align: right;\n",
       "    }\n",
       "</style>\n",
       "<table border=\"1\" class=\"dataframe\">\n",
       "  <thead>\n",
       "    <tr style=\"text-align: right;\">\n",
       "      <th></th>\n",
       "      <th>Time</th>\n",
       "      <th>Playercount</th>\n",
       "    </tr>\n",
       "  </thead>\n",
       "  <tbody>\n",
       "    <tr>\n",
       "      <th>0</th>\n",
       "      <td>2017-12-14 00:00:00</td>\n",
       "      <td>45236.0</td>\n",
       "    </tr>\n",
       "    <tr>\n",
       "      <th>1</th>\n",
       "      <td>2017-12-14 00:05:00</td>\n",
       "      <td>44049.0</td>\n",
       "    </tr>\n",
       "    <tr>\n",
       "      <th>2</th>\n",
       "      <td>2017-12-14 00:10:00</td>\n",
       "      <td>40193.0</td>\n",
       "    </tr>\n",
       "    <tr>\n",
       "      <th>3</th>\n",
       "      <td>2017-12-14 00:15:00</td>\n",
       "      <td>38689.0</td>\n",
       "    </tr>\n",
       "    <tr>\n",
       "      <th>4</th>\n",
       "      <td>2017-12-14 00:20:00</td>\n",
       "      <td>37957.0</td>\n",
       "    </tr>\n",
       "  </tbody>\n",
       "</table>\n",
       "</div>"
      ],
      "text/plain": [
       "                 Time  Playercount\n",
       "0 2017-12-14 00:00:00      45236.0\n",
       "1 2017-12-14 00:05:00      44049.0\n",
       "2 2017-12-14 00:10:00      40193.0\n",
       "3 2017-12-14 00:15:00      38689.0\n",
       "4 2017-12-14 00:20:00      37957.0"
      ]
     },
     "execution_count": 102,
     "metadata": {},
     "output_type": "execute_result"
    }
   ],
   "source": [
    "tf2_play_count.head()"
   ]
  },
  {
   "cell_type": "code",
   "execution_count": 103,
   "id": "8e208ebf",
   "metadata": {},
   "outputs": [],
   "source": [
    "tf2_player = stats.describe(tf2_play_count['Playercount'])"
   ]
  },
  {
   "cell_type": "code",
   "execution_count": 104,
   "id": "15687d8d",
   "metadata": {},
   "outputs": [
    {
     "data": {
      "text/plain": [
       "DescribeResult(nobs=280224, minmax=(0.0, 122938.0), mean=50453.48920149595, variance=179728899.31193128, skewness=0.004480211822957454, kurtosis=1.1042823042384802)"
      ]
     },
     "execution_count": 104,
     "metadata": {},
     "output_type": "execute_result"
    }
   ],
   "source": [
    "tf2_player"
   ]
  },
  {
   "cell_type": "code",
   "execution_count": 105,
   "id": "1fdd8394",
   "metadata": {
    "scrolled": false
   },
   "outputs": [
    {
     "data": {
      "text/plain": [
       "50453.48920149595"
      ]
     },
     "execution_count": 105,
     "metadata": {},
     "output_type": "execute_result"
    }
   ],
   "source": [
    "tf2_player.mean"
   ]
  },
  {
   "cell_type": "markdown",
   "id": "ac73fd9b",
   "metadata": {},
   "source": [
    "### Comparing Player Counts Over Time\n",
    "Here I will start comparing the pay-to-play game vs. the free-to-play game visually (might change to bar graph)"
   ]
  },
  {
   "cell_type": "code",
   "execution_count": 122,
   "id": "b36f0d9b",
   "metadata": {},
   "outputs": [
    {
     "data": {
      "image/png": "[encoded data removed]",
      "text/plain": [
       "<Figure size 1080x720 with 1 Axes>"
      ]
     },
     "metadata": {
      "needs_background": "light"
     },
     "output_type": "display_data"
    }
   ],
   "source": [
    "fig1, ax1 = plt.subplots(1, 1, figsize = (15, 10))\n",
    "ax1.scatter(gta5_play_count['Time'], gta5_play_count['Playercount'])\n",
    "ax1.set_xlabel(\"Time\")\n",
    "ax1.set_ylabel(\"Player Count\")\n",
    "ax1.set_title(\"The amount of players on GTA5 over time\")\n",
    "plt.show()"
   ]
  },
  {
   "cell_type": "code",
   "execution_count": null,
   "id": "888344f7",
   "metadata": {},
   "outputs": [],
   "source": []
  },
  {
   "cell_type": "markdown",
   "id": "3455a361",
   "metadata": {},
   "source": [
    "### Finale of project: comparing when CSGO was p2p vs f2p \n",
    "csgo became free to play december 6 2018"
   ]
  },
  {
   "cell_type": "code",
   "execution_count": 31,
   "id": "7834016c",
   "metadata": {},
   "outputs": [
    {
     "data": {
      "text/html": [
       "<div>\n",
       "<style scoped>\n",
       "    .dataframe tbody tr th:only-of-type {\n",
       "        vertical-align: middle;\n",
       "    }\n",
       "\n",
       "    .dataframe tbody tr th {\n",
       "        vertical-align: top;\n",
       "    }\n",
       "\n",
       "    .dataframe thead th {\n",
       "        text-align: right;\n",
       "    }\n",
       "</style>\n",
       "<table border=\"1\" class=\"dataframe\">\n",
       "  <thead>\n",
       "    <tr style=\"text-align: right;\">\n",
       "      <th></th>\n",
       "      <th>appid</th>\n",
       "      <th>type</th>\n",
       "      <th>name</th>\n",
       "      <th>releasedate</th>\n",
       "      <th>freetoplay</th>\n",
       "    </tr>\n",
       "  </thead>\n",
       "  <tbody>\n",
       "    <tr>\n",
       "      <th>2</th>\n",
       "      <td>730</td>\n",
       "      <td>game</td>\n",
       "      <td>Counter-Strike: Global Offensive</td>\n",
       "      <td>2012-08-21</td>\n",
       "      <td>1.0</td>\n",
       "    </tr>\n",
       "  </tbody>\n",
       "</table>\n",
       "</div>"
      ],
      "text/plain": [
       "   appid  type                              name releasedate  freetoplay\n",
       "2    730  game  Counter-Strike: Global Offensive  2012-08-21         1.0"
      ]
     },
     "execution_count": 31,
     "metadata": {},
     "output_type": "execute_result"
    }
   ],
   "source": [
    "game_info[2:3]"
   ]
  },
  {
   "cell_type": "code",
   "execution_count": 9,
   "id": "9953a6b2",
   "metadata": {},
   "outputs": [],
   "source": [
    "csgo = pd.read_excel('730.xlsx')"
   ]
  },
  {
   "cell_type": "code",
   "execution_count": 46,
   "id": "cdf9269d",
   "metadata": {},
   "outputs": [
    {
     "data": {
      "text/plain": [
       "(        Time  Playercount\n",
       " 0 2017-12-14     234777.0,\n",
       "                      Time  Playercount\n",
       " 40900 2018-05-05 00:20:00     206349.0)"
      ]
     },
     "execution_count": 46,
     "metadata": {},
     "output_type": "execute_result"
    }
   ],
   "source": [
    "csgo[0:1], csgo[40900:40901]"
   ]
  }
 ],
 "metadata": {
  "kernelspec": {
   "display_name": "Python 3 (ipykernel)",
   "language": "python",
   "name": "python3"
  },
  "language_info": {
   "codemirror_mode": {
    "name": "ipython",
    "version": 3
   },
   "file_extension": ".py",
   "mimetype": "text/x-python",
   "name": "python",
   "nbconvert_exporter": "python",
   "pygments_lexer": "ipython3",
   "version": "3.9.6"
  }
 },
 "nbformat": 4,
 "nbformat_minor": 5
}
